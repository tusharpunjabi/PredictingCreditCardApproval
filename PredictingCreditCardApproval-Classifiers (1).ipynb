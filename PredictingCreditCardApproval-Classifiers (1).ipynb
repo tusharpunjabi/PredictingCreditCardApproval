{
 "cells": [
  {
   "cell_type": "code",
   "execution_count": 2,
   "metadata": {},
   "outputs": [
    {
     "name": "stdout",
     "output_type": "stream",
     "text": [
      "  0      1      2  3  4  5  6     7  8  9   10 11 12     13   14 15\n",
      "0  b  30.83  0.000  u  g  w  v  1.25  t  t   1  f  g  00202    0  +\n",
      "1  a  58.67  4.460  u  g  q  h  3.04  t  t   6  f  g  00043  560  +\n",
      "2  a  24.50  0.500  u  g  q  h  1.50  t  f   0  f  g  00280  824  +\n",
      "3  b  27.83  1.540  u  g  w  v  3.75  t  t   5  t  g  00100    3  +\n",
      "4  b  20.17  5.625  u  g  w  v  1.71  t  f   0  f  s  00120    0  +\n",
      "(690, 16)\n"
     ]
    }
   ],
   "source": [
    "# Import pandas\n",
    "import pandas as pd\n",
    "import time\n",
    "# Load dataset\n",
    "cc_apps = pd.read_csv(\"cc_approvals.data\",header=None)\n",
    "\n",
    "# Inspect data\n",
    "print(cc_apps.head())\n",
    "print(cc_apps.shape)"
   ]
  },
  {
   "cell_type": "code",
   "execution_count": 3,
   "metadata": {},
   "outputs": [
    {
     "name": "stdout",
     "output_type": "stream",
     "text": [
      "               2           7          10             14\n",
      "count  690.000000  690.000000  690.00000     690.000000\n",
      "mean     4.758725    2.223406    2.40000    1017.385507\n",
      "std      4.978163    3.346513    4.86294    5210.102598\n",
      "min      0.000000    0.000000    0.00000       0.000000\n",
      "25%      1.000000    0.165000    0.00000       0.000000\n",
      "50%      2.750000    1.000000    0.00000       5.000000\n",
      "75%      7.207500    2.625000    3.00000     395.500000\n",
      "max     28.000000   28.500000   67.00000  100000.000000\n",
      "\n",
      "\n",
      "<class 'pandas.core.frame.DataFrame'>\n",
      "RangeIndex: 690 entries, 0 to 689\n",
      "Data columns (total 16 columns):\n",
      " #   Column  Non-Null Count  Dtype  \n",
      "---  ------  --------------  -----  \n",
      " 0   0       690 non-null    object \n",
      " 1   1       690 non-null    object \n",
      " 2   2       690 non-null    float64\n",
      " 3   3       690 non-null    object \n",
      " 4   4       690 non-null    object \n",
      " 5   5       690 non-null    object \n",
      " 6   6       690 non-null    object \n",
      " 7   7       690 non-null    float64\n",
      " 8   8       690 non-null    object \n",
      " 9   9       690 non-null    object \n",
      " 10  10      690 non-null    int64  \n",
      " 11  11      690 non-null    object \n",
      " 12  12      690 non-null    object \n",
      " 13  13      690 non-null    object \n",
      " 14  14      690 non-null    int64  \n",
      " 15  15      690 non-null    object \n",
      "dtypes: float64(2), int64(2), object(12)\n",
      "memory usage: 86.4+ KB\n",
      "None\n",
      "\n",
      "\n",
      "    0      1       2  3  4   5   6      7  8  9   10 11 12     13   14 15\n",
      "673  ?  29.50   2.000  y  p   e   h  2.000  f  f   0  f  g  00256   17  -\n",
      "674  a  37.33   2.500  u  g   i   h  0.210  f  f   0  f  g  00260  246  -\n",
      "675  a  41.58   1.040  u  g  aa   v  0.665  f  f   0  f  g  00240  237  -\n",
      "676  a  30.58  10.665  u  g   q   h  0.085  f  t  12  t  g  00129    3  -\n",
      "677  b  19.42   7.250  u  g   m   v  0.040  f  t   1  f  g  00100    1  -\n",
      "678  a  17.92  10.210  u  g  ff  ff  0.000  f  f   0  f  g  00000   50  -\n",
      "679  a  20.08   1.250  u  g   c   v  0.000  f  f   0  f  g  00000    0  -\n",
      "680  b  19.50   0.290  u  g   k   v  0.290  f  f   0  f  g  00280  364  -\n",
      "681  b  27.83   1.000  y  p   d   h  3.000  f  f   0  f  g  00176  537  -\n",
      "682  b  17.08   3.290  u  g   i   v  0.335  f  f   0  t  g  00140    2  -\n",
      "683  b  36.42   0.750  y  p   d   v  0.585  f  f   0  f  g  00240    3  -\n",
      "684  b  40.58   3.290  u  g   m   v  3.500  f  f   0  t  s  00400    0  -\n",
      "685  b  21.08  10.085  y  p   e   h  1.250  f  f   0  f  g  00260    0  -\n",
      "686  a  22.67   0.750  u  g   c   v  2.000  f  t   2  t  g  00200  394  -\n",
      "687  a  25.25  13.500  y  p  ff  ff  2.000  f  t   1  t  g  00200    1  -\n",
      "688  b  17.92   0.205  u  g  aa   v  0.040  f  f   0  f  g  00280  750  -\n",
      "689  b  35.00   3.375  u  g   c   h  8.290  f  f   0  t  g  00000    0  -\n"
     ]
    }
   ],
   "source": [
    "# Print summary statistics\n",
    "cc_apps_description = cc_apps.describe()\n",
    "print(cc_apps_description)\n",
    "\n",
    "print(\"\\n\")\n",
    "\n",
    "# Print DataFrame information\n",
    "cc_apps_info = cc_apps.info()\n",
    "print(cc_apps_info)\n",
    "\n",
    "print(\"\\n\")\n",
    "\n",
    "# Inspect missing values in the dataset\n",
    "print(cc_apps.tail(17))"
   ]
  },
  {
   "cell_type": "code",
   "execution_count": 4,
   "metadata": {},
   "outputs": [
    {
     "name": "stdout",
     "output_type": "stream",
     "text": [
      "    0      1       2  3  4   5   6      7  8  9   10 11 12     13   14 15\n",
      "673  ?  29.50   2.000  y  p   e   h  2.000  f  f   0  f  g  00256   17  -\n",
      "674  a  37.33   2.500  u  g   i   h  0.210  f  f   0  f  g  00260  246  -\n",
      "675  a  41.58   1.040  u  g  aa   v  0.665  f  f   0  f  g  00240  237  -\n",
      "676  a  30.58  10.665  u  g   q   h  0.085  f  t  12  t  g  00129    3  -\n",
      "677  b  19.42   7.250  u  g   m   v  0.040  f  t   1  f  g  00100    1  -\n",
      "678  a  17.92  10.210  u  g  ff  ff  0.000  f  f   0  f  g  00000   50  -\n",
      "679  a  20.08   1.250  u  g   c   v  0.000  f  f   0  f  g  00000    0  -\n",
      "680  b  19.50   0.290  u  g   k   v  0.290  f  f   0  f  g  00280  364  -\n",
      "681  b  27.83   1.000  y  p   d   h  3.000  f  f   0  f  g  00176  537  -\n",
      "682  b  17.08   3.290  u  g   i   v  0.335  f  f   0  t  g  00140    2  -\n",
      "683  b  36.42   0.750  y  p   d   v  0.585  f  f   0  f  g  00240    3  -\n",
      "684  b  40.58   3.290  u  g   m   v  3.500  f  f   0  t  s  00400    0  -\n",
      "685  b  21.08  10.085  y  p   e   h  1.250  f  f   0  f  g  00260    0  -\n",
      "686  a  22.67   0.750  u  g   c   v  2.000  f  t   2  t  g  00200  394  -\n",
      "687  a  25.25  13.500  y  p  ff  ff  2.000  f  t   1  t  g  00200    1  -\n",
      "688  b  17.92   0.205  u  g  aa   v  0.040  f  f   0  f  g  00280  750  -\n",
      "689  b  35.00   3.375  u  g   c   h  8.290  f  f   0  t  g  00000    0  -\n",
      "      0      1       2  3  4   5   6      7  8  9   10 11 12     13   14 15\n",
      "673  NaN  29.50   2.000  y  p   e   h  2.000  f  f   0  f  g  00256   17  -\n",
      "674    a  37.33   2.500  u  g   i   h  0.210  f  f   0  f  g  00260  246  -\n",
      "675    a  41.58   1.040  u  g  aa   v  0.665  f  f   0  f  g  00240  237  -\n",
      "676    a  30.58  10.665  u  g   q   h  0.085  f  t  12  t  g  00129    3  -\n",
      "677    b  19.42   7.250  u  g   m   v  0.040  f  t   1  f  g  00100    1  -\n",
      "678    a  17.92  10.210  u  g  ff  ff  0.000  f  f   0  f  g  00000   50  -\n",
      "679    a  20.08   1.250  u  g   c   v  0.000  f  f   0  f  g  00000    0  -\n",
      "680    b  19.50   0.290  u  g   k   v  0.290  f  f   0  f  g  00280  364  -\n",
      "681    b  27.83   1.000  y  p   d   h  3.000  f  f   0  f  g  00176  537  -\n",
      "682    b  17.08   3.290  u  g   i   v  0.335  f  f   0  t  g  00140    2  -\n",
      "683    b  36.42   0.750  y  p   d   v  0.585  f  f   0  f  g  00240    3  -\n",
      "684    b  40.58   3.290  u  g   m   v  3.500  f  f   0  t  s  00400    0  -\n",
      "685    b  21.08  10.085  y  p   e   h  1.250  f  f   0  f  g  00260    0  -\n",
      "686    a  22.67   0.750  u  g   c   v  2.000  f  t   2  t  g  00200  394  -\n",
      "687    a  25.25  13.500  y  p  ff  ff  2.000  f  t   1  t  g  00200    1  -\n",
      "688    b  17.92   0.205  u  g  aa   v  0.040  f  f   0  f  g  00280  750  -\n",
      "689    b  35.00   3.375  u  g   c   h  8.290  f  f   0  t  g  00000    0  -\n"
     ]
    }
   ],
   "source": [
    "# Import numpy\n",
    "import numpy as np\n",
    "\n",
    "# Inspect missing values in the dataset\n",
    "print(cc_apps.tail(17))\n",
    "\n",
    "# Replace the '?'s with NaN\n",
    "cc_apps = cc_apps.replace(\"?\",np.nan)\n",
    "\n",
    "# Inspect the missing values again\n",
    "print(cc_apps.tail(17))"
   ]
  },
  {
   "cell_type": "code",
   "execution_count": 5,
   "metadata": {},
   "outputs": [
    {
     "name": "stdout",
     "output_type": "stream",
     "text": [
      "        0      1      2      3      4      5      6      7      8      9   \\\n",
      "0    False  False  False  False  False  False  False  False  False  False   \n",
      "1    False  False  False  False  False  False  False  False  False  False   \n",
      "2    False  False  False  False  False  False  False  False  False  False   \n",
      "3    False  False  False  False  False  False  False  False  False  False   \n",
      "4    False  False  False  False  False  False  False  False  False  False   \n",
      "..     ...    ...    ...    ...    ...    ...    ...    ...    ...    ...   \n",
      "685  False  False  False  False  False  False  False  False  False  False   \n",
      "686  False  False  False  False  False  False  False  False  False  False   \n",
      "687  False  False  False  False  False  False  False  False  False  False   \n",
      "688  False  False  False  False  False  False  False  False  False  False   \n",
      "689  False  False  False  False  False  False  False  False  False  False   \n",
      "\n",
      "        10     11     12     13     14     15  \n",
      "0    False  False  False  False  False  False  \n",
      "1    False  False  False  False  False  False  \n",
      "2    False  False  False  False  False  False  \n",
      "3    False  False  False  False  False  False  \n",
      "4    False  False  False  False  False  False  \n",
      "..     ...    ...    ...    ...    ...    ...  \n",
      "685  False  False  False  False  False  False  \n",
      "686  False  False  False  False  False  False  \n",
      "687  False  False  False  False  False  False  \n",
      "688  False  False  False  False  False  False  \n",
      "689  False  False  False  False  False  False  \n",
      "\n",
      "[690 rows x 16 columns]\n"
     ]
    }
   ],
   "source": [
    "# Impute the missing values with mean imputation\n",
    "cc_apps.fillna(cc_apps.mean(), inplace=True)\n",
    "\n",
    "# Count the number of NaNs in the dataset to verify\n",
    "print(cc_apps.isnull())"
   ]
  },
  {
   "cell_type": "code",
   "execution_count": 6,
   "metadata": {},
   "outputs": [
    {
     "name": "stdout",
     "output_type": "stream",
     "text": [
      "        0      1      2      3      4      5      6      7      8      9   \\\n",
      "0    False  False  False  False  False  False  False  False  False  False   \n",
      "1    False  False  False  False  False  False  False  False  False  False   \n",
      "2    False  False  False  False  False  False  False  False  False  False   \n",
      "3    False  False  False  False  False  False  False  False  False  False   \n",
      "4    False  False  False  False  False  False  False  False  False  False   \n",
      "..     ...    ...    ...    ...    ...    ...    ...    ...    ...    ...   \n",
      "685  False  False  False  False  False  False  False  False  False  False   \n",
      "686  False  False  False  False  False  False  False  False  False  False   \n",
      "687  False  False  False  False  False  False  False  False  False  False   \n",
      "688  False  False  False  False  False  False  False  False  False  False   \n",
      "689  False  False  False  False  False  False  False  False  False  False   \n",
      "\n",
      "        10     11     12     13     14     15  \n",
      "0    False  False  False  False  False  False  \n",
      "1    False  False  False  False  False  False  \n",
      "2    False  False  False  False  False  False  \n",
      "3    False  False  False  False  False  False  \n",
      "4    False  False  False  False  False  False  \n",
      "..     ...    ...    ...    ...    ...    ...  \n",
      "685  False  False  False  False  False  False  \n",
      "686  False  False  False  False  False  False  \n",
      "687  False  False  False  False  False  False  \n",
      "688  False  False  False  False  False  False  \n",
      "689  False  False  False  False  False  False  \n",
      "\n",
      "[690 rows x 16 columns]\n"
     ]
    }
   ],
   "source": [
    "# Iterate over each column of cc_apps\n",
    "for col in cc_apps:\n",
    "    # Check if the column is of object type\n",
    "    if cc_apps[col].dtypes == 'object':\n",
    "        # Impute with the most frequent value\n",
    "        cc_apps = cc_apps.fillna(cc_apps[col].value_counts().index[0])\n",
    "\n",
    "# Count the number of NaNs in the dataset and print the counts to verify\n",
    "print(cc_apps.isnull())"
   ]
  },
  {
   "cell_type": "code",
   "execution_count": 7,
   "metadata": {},
   "outputs": [],
   "source": [
    "# Import LabelEncoder\n",
    "from sklearn.preprocessing import LabelEncoder\n",
    "\n",
    "# Instantiate LabelEncoder\n",
    "le=LabelEncoder()\n",
    "\n",
    "# Iterate over all the values of each column and extract their dtypes\n",
    "for col in cc_apps:\n",
    "    # Compare if the dtype is object\n",
    "    if cc_apps[col].dtypes=='object':\n",
    "    # Use LabelEncoder to do the numeric transformation\n",
    "        le.fit(cc_apps[col])\n",
    "        cc_apps[col]=le.transform(cc_apps[col])\n",
    "    "
   ]
  },
  {
   "cell_type": "code",
   "execution_count": 8,
   "metadata": {},
   "outputs": [
    {
     "name": "stdout",
     "output_type": "stream",
     "text": [
      "[[1.000e+00 1.560e+02 0.000e+00 ... 1.000e+00 0.000e+00 0.000e+00]\n",
      " [0.000e+00 3.280e+02 4.460e+00 ... 6.000e+00 0.000e+00 5.600e+02]\n",
      " [0.000e+00 8.900e+01 5.000e-01 ... 0.000e+00 0.000e+00 8.240e+02]\n",
      " ...\n",
      " [0.000e+00 9.700e+01 1.350e+01 ... 1.000e+00 0.000e+00 1.000e+00]\n",
      " [1.000e+00 2.000e+01 2.050e-01 ... 0.000e+00 0.000e+00 7.500e+02]\n",
      " [1.000e+00 1.970e+02 3.375e+00 ... 0.000e+00 0.000e+00 0.000e+00]]\n",
      "[0. 0. 0. 0. 0. 0. 0. 0. 0. 0. 0. 0. 0. 0. 0. 0. 0. 0. 0. 0. 0. 0. 0. 0.\n",
      " 0. 0. 0. 0. 0. 0. 0. 0. 0. 0. 0. 0. 0. 0. 0. 0. 0. 0. 0. 0. 0. 0. 0. 0.\n",
      " 0. 0. 0. 0. 0. 0. 0. 0. 0. 0. 0. 0. 0. 0. 0. 0. 0. 0. 0. 0. 0. 0. 1. 1.\n",
      " 1. 1. 1. 1. 1. 1. 1. 1. 1. 1. 1. 1. 1. 1. 1. 1. 1. 1. 1. 1. 1. 1. 1. 1.\n",
      " 1. 1. 1. 1. 1. 1. 1. 1. 1. 1. 1. 1. 1. 1. 1. 1. 1. 1. 1. 1. 1. 0. 0. 0.\n",
      " 0. 0. 0. 0. 0. 0. 0. 0. 0. 0. 0. 0. 0. 0. 0. 0. 0. 0. 0. 0. 0. 0. 0. 0.\n",
      " 0. 0. 0. 0. 0. 0. 0. 0. 0. 0. 0. 0. 0. 0. 0. 0. 0. 0. 0. 0. 0. 0. 0. 0.\n",
      " 0. 0. 0. 0. 0. 0. 0. 0. 0. 0. 0. 0. 0. 0. 0. 0. 0. 0. 0. 0. 0. 0. 0. 0.\n",
      " 0. 0. 0. 0. 0. 0. 0. 0. 0. 0. 0. 0. 0. 0. 0. 0. 0. 0. 0. 0. 0. 0. 0. 0.\n",
      " 0. 0. 0. 0. 0. 0. 0. 0. 0. 0. 0. 0. 0. 0. 0. 0. 0. 0. 0. 0. 0. 0. 0. 0.\n",
      " 0. 0. 0. 0. 0. 0. 0. 0. 0. 0. 0. 0. 0. 0. 1. 1. 1. 1. 1. 1. 1. 1. 1. 1.\n",
      " 1. 1. 1. 1. 0. 0. 0. 1. 1. 1. 1. 1. 1. 1. 1. 1. 1. 1. 1. 1. 1. 1. 1. 1.\n",
      " 1. 1. 1. 1. 1. 1. 1. 1. 1. 1. 1. 1. 1. 1. 1. 1. 1. 1. 1. 1. 1. 1. 1. 1.\n",
      " 1. 1. 1. 1. 1. 0. 0. 0. 0. 0. 0. 0. 1. 1. 1. 1. 1. 1. 1. 1. 1. 1. 1. 1.\n",
      " 1. 1. 1. 1. 1. 1. 1. 1. 1. 1. 1. 1. 1. 1. 1. 1. 1. 1. 1. 1. 1. 1. 1. 1.\n",
      " 1. 1. 1. 1. 1. 1. 1. 1. 1. 1. 1. 1. 1. 1. 1. 1. 1. 1. 1. 1. 1. 1. 1. 1.\n",
      " 1. 1. 1. 1. 1. 1. 1. 1. 1. 1. 1. 1. 1. 1. 1. 1. 1. 1. 1. 1. 1. 1. 1. 1.\n",
      " 1. 1. 1. 1. 1. 1. 1. 1. 1. 1. 1. 1. 1. 1. 1. 1. 1. 1. 1. 1. 1. 1. 1. 1.\n",
      " 1. 1. 1. 1. 1. 1. 1. 1. 1. 1. 1. 1. 1. 1. 1. 1. 1. 1. 1. 1. 1. 1. 1. 1.\n",
      " 1. 1. 1. 1. 1. 1. 1. 1. 1. 1. 1. 1. 1. 1. 1. 1. 1. 1. 1. 1. 1. 1. 1. 1.\n",
      " 1. 1. 1. 1. 1. 1. 1. 1. 1. 1. 0. 0. 0. 0. 0. 0. 0. 0. 0. 0. 0. 0. 0. 0.\n",
      " 0. 0. 0. 0. 0. 0. 0. 0. 0. 0. 0. 0. 0. 0. 0. 0. 0. 0. 0. 1. 1. 1. 1. 1.\n",
      " 1. 1. 1. 1. 1. 1. 1. 1. 1. 1. 1. 1. 1. 1. 1. 1. 1. 1. 1. 0. 0. 0. 0. 0.\n",
      " 0. 0. 0. 0. 0. 0. 0. 0. 0. 0. 0. 0. 0. 0. 0. 0. 0. 0. 0. 0. 0. 0. 0. 0.\n",
      " 0. 0. 0. 0. 0. 0. 0. 0. 0. 0. 0. 0. 0. 0. 0. 0. 0. 0. 0. 0. 0. 0. 0. 0.\n",
      " 0. 1. 1. 1. 1. 1. 0. 1. 1. 1. 1. 1. 1. 1. 1. 1. 1. 1. 1. 1. 1. 0. 0. 1.\n",
      " 1. 1. 1. 1. 1. 1. 1. 1. 1. 1. 1. 1. 1. 1. 1. 1. 1. 1. 1. 1. 1. 1. 1. 1.\n",
      " 1. 1. 1. 1. 1. 1. 1. 1. 1. 1. 1. 1. 1. 1. 1. 1. 1. 1. 1. 1. 1. 1. 1. 1.\n",
      " 1. 1. 1. 1. 1. 1. 1. 1. 1. 1. 1. 1. 1. 1. 1. 1. 1. 1.]\n"
     ]
    }
   ],
   "source": [
    "# Import train_test_split\n",
    "from sklearn.model_selection import train_test_split\n",
    "\n",
    "# Drop the features 11 and 13 and convert the DataFrame to a NumPy array\n",
    "cc_apps = cc_apps.drop([11,13],axis=1)\n",
    "cc_apps = cc_apps.values\n",
    "\n",
    "# Segregate features and labels into separate variables\n",
    "X,y = cc_apps[:,0:13] , cc_apps[:,13]\n",
    "print(X)\n",
    "print(y)\n",
    "# Split into train and test sets\n",
    "X_train, X_test, y_train,y_test = train_test_split(X,\n",
    "                                y,\n",
    "                                test_size=0.33,\n",
    "                                random_state=14)"
   ]
  },
  {
   "cell_type": "code",
   "execution_count": 9,
   "metadata": {},
   "outputs": [],
   "source": [
    "# Import MinMaxScaler\n",
    "from sklearn.preprocessing import MinMaxScaler\n",
    "\n",
    "# Instantiate MinMaxScaler and use it to rescale X_train and X_test\n",
    "scaler = MinMaxScaler(feature_range=(0, 1))\n",
    "rX_train = scaler.fit_transform(X_train)\n",
    "rX_test = scaler.fit_transform(X_test)"
   ]
  },
  {
   "cell_type": "code",
   "execution_count": 10,
   "metadata": {},
   "outputs": [
    {
     "name": "stdout",
     "output_type": "stream",
     "text": [
      "Accuracy of logistic regression classifier:  83.33333333333334\n",
      "Confusion Matrix \n",
      "[[ 87   8]\n",
      " [ 30 103]]\n",
      "Best Accuracy of Logistic Regression after HyperParameter Tuning using GridSearchCV: 85.362319 using {'C': 1.0, 'max_iter': 200, 'penalty': 'l2', 'solver': 'liblinear', 'tol': 0.1}\n"
     ]
    },
    {
     "data": {
      "image/png": "[encoded data removed]",
      "text/plain": [
       "<Figure size 432x288 with 1 Axes>"
      ]
     },
     "metadata": {
      "needs_background": "light"
     },
     "output_type": "display_data"
    },
    {
     "name": "stdout",
     "output_type": "stream",
     "text": [
      "11.926189422607422\n"
     ]
    }
   ],
   "source": [
    "def LogReg():\n",
    "    start=time.time()\n",
    "# Import LogisticRegression\n",
    "    from sklearn.linear_model import LogisticRegression\n",
    "\n",
    "# Instantiate a LogisticRegression classifier with default parameter values\n",
    "    logreg =LogisticRegression(random_state=24)\n",
    "\n",
    "# Fit logreg to the train set\n",
    "    logreg.fit(rX_train,y_train)\n",
    "    # Import confusion_matrix\n",
    "    from sklearn.metrics import confusion_matrix\n",
    "\n",
    "# Use logreg to predict instances from the test set and store it\n",
    "    y_pred = logreg.predict(rX_test)\n",
    "\n",
    "# Get the accuracy score of logreg model and print it\n",
    "    print(\"Accuracy of logistic regression classifier: \", logreg.score(rX_test,y_test)*100)\n",
    "\n",
    "# Print the confusion matrix of the logreg model\n",
    "    print(\"Confusion Matrix \")\n",
    "    print(confusion_matrix(y_test,y_pred))\n",
    "    # Import GridSearchCV\n",
    "    from sklearn.model_selection import GridSearchCV\n",
    "\n",
    "# Define the grid of values for tol and max_iter\n",
    "    tol = [0.1,0.01,0.001]\n",
    "    max_iter =[200,500,1000]\n",
    "    solvers = ['newton-cg', 'lbfgs', 'liblinear']\n",
    "    penalty = ['l2']\n",
    "    c_values = [100, 10, 1.0, 0.1, 0.01]\n",
    "# Create a dictionary where tol and max_iter are keys and the lists of their values are corresponding values\n",
    "    param_grid = dict({'tol':tol,'max_iter':max_iter,'solver':solvers,'penalty':penalty,'C':c_values})\n",
    "    # Instantiate GridSearchCV with the required parameters\n",
    "    grid_model = GridSearchCV(estimator=logreg, param_grid=param_grid, cv=5)\n",
    "\n",
    "# Use scaler to rescale X and assign it to rescaledX\n",
    "    rescaledX = scaler.fit_transform(X)\n",
    "\n",
    "# Fit data to grid_model\n",
    "    grid_model_result = grid_model.fit(rescaledX,y)\n",
    "\n",
    "# Summarize results\n",
    "    best_score, best_params = grid_model_result.best_score_,grid_model_result.best_params_\n",
    "    print(\"Best Accuracy of Logistic Regression after HyperParameter Tuning using GridSearchCV: %f using %s\" % ((best_score*100),best_params))\n",
    "    \n",
    "    import matplotlib.pyplot as plt\n",
    "    from sklearn.metrics import roc_auc_score\n",
    "    from sklearn.metrics import roc_curve\n",
    "    logit_roc_auc = roc_auc_score(y_test, logreg.predict(rX_test))\n",
    "    fpr, tpr, thresholds = roc_curve(y_test, logreg.predict_proba(rX_test)[:,1])\n",
    "    plt.figure()\n",
    "    plt.plot(fpr, tpr, label='Logistic Regression (area = %0.2f)' % logit_roc_auc)\n",
    "    plt.plot([0, 1], [0, 1],'r--')\n",
    "    plt.xlim([0.0, 1.0])\n",
    "    plt.ylim([0.0, 1.05])\n",
    "    plt.xlabel('False Positive Rate')\n",
    "    plt.ylabel('True Positive Rate')\n",
    "    plt.title('Receiver operating characteristic (ROC Curve)')\n",
    "    plt.legend(loc=\"lower right\")\n",
    "    #plt.savefig('Log_ROC')\n",
    "    plt.show()\n",
    "    end=time.time()\n",
    "    return end-start\n",
    "L=LogReg()\n",
    "print(L)"
   ]
  },
  {
   "cell_type": "code",
   "execution_count": 11,
   "metadata": {},
   "outputs": [
    {
     "name": "stdout",
     "output_type": "stream",
     "text": [
      "Accuracy Score of Random Forest Classifier is: 85.08771929824562\n",
      "Confusion Matrix\n",
      "[[ 82  13]\n",
      " [ 21 112]]\n",
      "Calculating Best Accuracy....Please wait..!!\n",
      "Best Accuracy of Random Forest after HyperParameter Tuning is: 88.321646 using {'max_depth': 80, 'min_samples_leaf': 3, 'min_samples_split': 8, 'n_estimators': 300}\n"
     ]
    },
    {
     "data": {
      "image/png": "[encoded data removed]",
      "text/plain": [
       "<Figure size 432x288 with 1 Axes>"
      ]
     },
     "metadata": {
      "needs_background": "light"
     },
     "output_type": "display_data"
    },
    {
     "name": "stdout",
     "output_type": "stream",
     "text": [
      "208.13123750686646\n"
     ]
    }
   ],
   "source": [
    "def RandomForest():\n",
    "    start=time.time()\n",
    "    from sklearn.ensemble import RandomForestClassifier\n",
    "    model=RandomForestClassifier(random_state=24,\n",
    "                                  n_estimators = 2014,\n",
    "                                  max_depth = 14, \n",
    "                                  min_samples_split = 10,  min_samples_leaf = 1) \n",
    "    model.fit(rX_train,y_train)\n",
    "#prediction\n",
    "    y_pred = model.predict(rX_test)\n",
    "#Accuracy\n",
    "#from sklearn.metrics import accuracy_score\n",
    "    print('Accuracy Score of Random Forest Classifier is:', model.score(rX_test,y_test)*100)\n",
    "    from sklearn.metrics import confusion_matrix\n",
    "    print(\"Confusion Matrix\")\n",
    "    print(confusion_matrix(y_test,y_pred))\n",
    "    # Import GridSearchCV\n",
    "    from sklearn.model_selection import GridSearchCV\n",
    "\n",
    "    param_grid ={\n",
    "    #'bootstrap': [True],\n",
    "    'max_depth': [80, 90, 100, 110],\n",
    "    #'max_features': [2, 3],\n",
    "    'min_samples_leaf': [3, 4, 5],\n",
    "    'min_samples_split': [8, 10, 12],\n",
    "    'n_estimators': [100, 200, 300, 1000]\n",
    "    }\n",
    "# Instantiate GridSearchCV with the required parameters\n",
    "    grid_model = GridSearchCV(estimator=RandomForestClassifier(), param_grid=param_grid, cv=5, n_jobs=-1,verbose=0)\n",
    "    print(\"Calculating Best Accuracy....Please wait..!!\")\n",
    "# Use scaler to rescale X and assign it to rescaledX\n",
    "    rescaledX = scaler.fit_transform(X_train)\n",
    "\n",
    "# Fit data to grid_model\n",
    "    grid_model_result = grid_model.fit(rescaledX,y_train)\n",
    "\n",
    "# Summarize results\n",
    "    best_score, best_params = grid_model_result.best_score_,grid_model_result.best_params_\n",
    "    print(\"Best Accuracy of Random Forest after HyperParameter Tuning is: %f using %s\" % ((best_score*100),best_params))\n",
    "    import matplotlib.pyplot as plt\n",
    "    from sklearn.metrics import roc_auc_score\n",
    "    from sklearn.metrics import roc_curve\n",
    "    logit_roc_auc = roc_auc_score(y_test, model.predict(rX_test))\n",
    "    fpr, tpr, thresholds = roc_curve(y_test, model.predict_proba(rX_test)[:,1])\n",
    "    plt.figure()\n",
    "    plt.plot(fpr, tpr, label='Random Forest (area = %0.2f)' % logit_roc_auc)\n",
    "    plt.plot([0, 1], [0, 1],'r--')\n",
    "    plt.xlim([0.0, 1.0])\n",
    "    plt.ylim([0.0, 1.05])\n",
    "    plt.xlabel('False Positive Rate')\n",
    "    plt.ylabel('True Positive Rate')\n",
    "    plt.title('Receiver operating characteristic (ROC Curve)')\n",
    "    plt.legend(loc=\"lower right\")\n",
    "    #plt.savefig('Log_ROC')\n",
    "    plt.show()\n",
    "    end=time.time()\n",
    "    return end-start\n",
    "R=RandomForest()\n",
    "print(R)"
   ]
  },
  {
   "cell_type": "code",
   "execution_count": 12,
   "metadata": {},
   "outputs": [
    {
     "name": "stdout",
     "output_type": "stream",
     "text": [
      "Accuracy Score of Decision tree Algorithm is:  82.01754385964912\n",
      "Confusion Matrix\n",
      "[[ 80  15]\n",
      " [ 26 107]]\n",
      "Best Accuracy of Decision Tree after HyperParameter Tuning is : 85.942029 using {'max_depth': 2, 'min_samples_split': 10}\n"
     ]
    },
    {
     "data": {
      "image/png": "[encoded data removed]",
      "text/plain": [
       "<Figure size 432x288 with 1 Axes>"
      ]
     },
     "metadata": {
      "needs_background": "light"
     },
     "output_type": "display_data"
    },
    {
     "name": "stdout",
     "output_type": "stream",
     "text": [
      "2.317028522491455\n"
     ]
    }
   ],
   "source": [
    "def DecisionTree():\n",
    "    start=time.time()\n",
    "    from sklearn.tree import DecisionTreeClassifier\n",
    "    classifier = DecisionTreeClassifier(random_state=24)\n",
    "    classifier = classifier.fit(rX_train,y_train)\n",
    "    #prediction\n",
    "    y_pred = classifier.predict(rX_test)\n",
    "#Accuracy\n",
    "    from sklearn.metrics import accuracy_score\n",
    "    print('Accuracy Score of Decision tree Algorithm is: ', accuracy_score(y_test,y_pred)*100)\n",
    "    from sklearn.metrics import confusion_matrix\n",
    "    print(\"Confusion Matrix\")\n",
    "    print(confusion_matrix(y_test,y_pred))\n",
    "    # Import GridSearchCV\n",
    "    from sklearn.model_selection import GridSearchCV\n",
    "\n",
    "# Create a dictionary where tol and max_iter are keys and the lists of their values are corresponding values\n",
    "    param_grid ={'min_samples_split' : range(10,500,20),'max_depth': [1,2,3,4]}\n",
    "    # Instantiate GridSearchCV with the required parameters\n",
    "    grid_model = GridSearchCV(estimator=classifier, param_grid=param_grid, cv=5)\n",
    "\n",
    "# Use scaler to rescale X and assign it to rescaledX\n",
    "    rescaledX = scaler.fit_transform(X)\n",
    "\n",
    "\n",
    "# Fit data to grid_model\n",
    "    grid_model_result = grid_model.fit(rescaledX,y)\n",
    "\n",
    "# Summarize results\n",
    "    best_score, best_params = grid_model_result.best_score_,grid_model_result.best_params_\n",
    "    print(\"Best Accuracy of Decision Tree after HyperParameter Tuning is : %f using %s\" % ((best_score*100),best_params))\n",
    "    import matplotlib.pyplot as plt\n",
    "    from sklearn.metrics import roc_auc_score\n",
    "    from sklearn.metrics import roc_curve\n",
    "    logit_roc_auc = roc_auc_score(y_test, classifier.predict(rX_test))\n",
    "    fpr, tpr, thresholds = roc_curve(y_test, classifier.predict_proba(rX_test)[:,1])\n",
    "    plt.figure()\n",
    "    plt.plot(fpr, tpr, label='Decision Tree (area = %0.2f)' % logit_roc_auc)\n",
    "    plt.plot([0, 1], [0, 1],'r--')\n",
    "    plt.xlim([0.0, 1.0])\n",
    "    plt.ylim([0.0, 1.05])\n",
    "    plt.xlabel('False Positive Rate')\n",
    "    plt.ylabel('True Positive Rate')\n",
    "    plt.title('Receiver operating characteristic (ROC Curve)')\n",
    "    plt.legend(loc=\"lower right\")\n",
    "    plt.savefig('Log_ROC')\n",
    "    plt.show()\n",
    "    end=time.time()\n",
    "    return end-start\n",
    "D=DecisionTree()\n",
    "print(D)"
   ]
  },
  {
   "cell_type": "code",
   "execution_count": 11,
   "metadata": {
    "scrolled": true
   },
   "outputs": [
    {
     "name": "stdout",
     "output_type": "stream",
     "text": [
      "462/462 [==============================] - 0s 449us/step\n",
      "Accuracy of Sequential Neural Network is: 88.10\n",
      "Calculating Best Accuracy....Please wait..!!\n",
      "Best Accuracy of Sequential Neural Network after HyperParameter Tuning is: 88.592735 using {'optimizer': 'adam'}\n",
      "69.3438401222229\n"
     ]
    }
   ],
   "source": [
    "def DL():\n",
    "    start=time.time()\n",
    "    from keras.models import Sequential\n",
    "    from keras.layers import Dense\n",
    "    from keras.utils.vis_utils import plot_model\n",
    "    model = Sequential()\n",
    "    def create_model(optimizer='adam', init='glorot_uniform'):\n",
    "        model = Sequential()\n",
    "        model.add(Dense(12, input_dim=13, activation='relu'))\n",
    "        model.add(Dense(8, activation='relu'))\n",
    "        model.add(Dense(1, activation='sigmoid'))\n",
    "        model.compile(loss='binary_crossentropy', optimizer='adam', metrics=['accuracy'])\n",
    "# fit the keras model on the dataset\n",
    "        model.fit(rX_train,y_train, epochs=60, batch_size=100,verbose=0)\n",
    "        #_, accuracy = model.evaluate(rX_train,y_train)\n",
    "        #print('Accuracy of Sequential Neural Network is: %.2f' % (accuracy*100))\n",
    "        return model\n",
    "    model.add(Dense(12, input_dim=13, activation='relu'))\n",
    "    model.add(Dense(8, activation='relu'))\n",
    "    model.add(Dense(1, activation='sigmoid'))\n",
    "    model.compile(loss='binary_crossentropy', optimizer='adam', metrics=['accuracy'])\n",
    "# fit the keras model on the dataset\n",
    "    model.fit(rX_train,y_train, epochs=60, batch_size=100,verbose=0)\n",
    "    _, accuracy = model.evaluate(rX_train,y_train)\n",
    "    print('Accuracy of Sequential Neural Network is: %.2f' % (accuracy*100))\n",
    "    create_model()\n",
    "    import numpy\n",
    "    seed = 7\n",
    "    numpy.random.seed(seed)\n",
    "    batch_size = 500\n",
    "    epochs = 10\n",
    "    from sklearn.model_selection import GridSearchCV\n",
    "    from keras.wrappers.scikit_learn import KerasClassifier\n",
    "    m=KerasClassifier(build_fn=create_model,epochs=epochs, \n",
    "                           batch_size=batch_size, verbose=0)\n",
    "    param_grid = dict(optimizer=('rmsprop','adam'))\n",
    "    grid_model =GridSearchCV(m, param_grid=param_grid,return_train_score=True,\n",
    "                   scoring=['precision_macro','recall_macro','f1_macro'],\n",
    "                    refit='precision_macro',cv=5)\n",
    "    print(\"Calculating Best Accuracy....Please wait..!!\")\n",
    "\n",
    "\n",
    "# Fit data to grid_model\n",
    "    grid_model_result = grid_model.fit(rX_train,y_train)\n",
    "\n",
    "# Summarize results\n",
    "    best_score, best_params = grid_model_result.best_score_,grid_model_result.best_params_\n",
    "    print(\"Best Accuracy of Sequential Neural Network after HyperParameter Tuning is: %f using %s\" % ((best_score*100),best_params))\n",
    "    plot_model(model, to_file='model_plot.png', show_shapes=True, show_layer_names=True)\n",
    "    end=time.time()\n",
    "    return end-start\n",
    "DL=DL()\n",
    "print(DL)"
   ]
  },
  {
   "cell_type": "code",
   "execution_count": 14,
   "metadata": {},
   "outputs": [
    {
     "name": "stdout",
     "output_type": "stream",
     "text": [
      "Accuracy Score of Support Vector Classifier is :  84.21052631578947\n",
      "[[ 87   8]\n",
      " [ 28 105]]\n",
      "Best accuracy of Support Vector Classifier is : 85.507246 using {'C': 1, 'gamma': 0.1, 'kernel': 'rbf'}\n"
     ]
    },
    {
     "data": {
      "image/png": "[encoded data removed]",
      "text/plain": [
       "<Figure size 432x288 with 1 Axes>"
      ]
     },
     "metadata": {
      "needs_background": "light"
     },
     "output_type": "display_data"
    },
    {
     "name": "stdout",
     "output_type": "stream",
     "text": [
      "25.001392364501953\n"
     ]
    }
   ],
   "source": [
    "def SVM():\n",
    "    start=time.time()\n",
    "    from sklearn.svm import SVC\n",
    "    classifier = SVC(kernel='rbf', random_state = 24, probability=True)\n",
    "    classifier.fit(rX_train,y_train)\n",
    "    #prediction\n",
    "    y_pred = classifier.predict(rX_test)\n",
    "    from sklearn.metrics import accuracy_score\n",
    "    print('Accuracy Score of Support Vector Classifier is : ', accuracy_score(y_test,y_pred)*100)\n",
    "    from sklearn.metrics import confusion_matrix\n",
    "    print(confusion_matrix(y_test,y_pred))\n",
    "    # Import GridSearchCV\n",
    "    from sklearn.model_selection import GridSearchCV\n",
    "\n",
    "# Create a dictionary where tol and max_iter are keys and the lists of their values are corresponding values\n",
    "    param_grid = {'C': [1, 10, 100], 'gamma': [1,0.1,0.01,0.001],'kernel': ['poly','rbf', 'sigmoid']}\n",
    "    # Instantiate GridSearchCV with the required parameters\n",
    "    grid_model = GridSearchCV(estimator=classifier, param_grid=param_grid, refit=True, cv=5)\n",
    "\n",
    "# Use scaler to rescale X and assign it to rescaledX\n",
    "    rescaledX = scaler.fit_transform(X)\n",
    "\n",
    "\n",
    "# Fit data to grid_model\n",
    "    grid_model_result = grid_model.fit(rescaledX,y)\n",
    "\n",
    "# Summarize results\n",
    "    best_score, best_params = grid_model_result.best_score_,grid_model_result.best_params_\n",
    "    print(\"Best accuracy of Support Vector Classifier is : %f using %s\" % ((best_score*100),best_params))\n",
    "    import matplotlib.pyplot as plt\n",
    "    from sklearn.metrics import roc_auc_score\n",
    "    from sklearn.metrics import roc_curve\n",
    "    logit_roc_auc = roc_auc_score(y_test, classifier.predict(rX_test))\n",
    "    fpr, tpr, thresholds = roc_curve(y_test, classifier.predict_proba(rX_test)[:,1])\n",
    "    plt.figure()\n",
    "    plt.plot(fpr, tpr, label='Support Vector Classifier (area = %0.2f)' % logit_roc_auc)\n",
    "    plt.plot([0, 1], [0, 1],'r--')\n",
    "    plt.xlim([0.0, 1.0])\n",
    "    plt.ylim([0.0, 1.05])\n",
    "    plt.xlabel('False Positive Rate')\n",
    "    plt.ylabel('True Positive Rate')\n",
    "    plt.title('Receiver operating characteristic')\n",
    "    plt.legend(loc=\"lower right\")\n",
    "    plt.savefig('Log_ROC')\n",
    "    plt.show()\n",
    "    end=time.time()\n",
    "    return end-start\n",
    "S=SVM()\n",
    "print(S)"
   ]
  },
  {
   "cell_type": "code",
   "execution_count": 15,
   "metadata": {},
   "outputs": [
    {
     "name": "stdout",
     "output_type": "stream",
     "text": [
      "Accuracy Score of Gradient Boost is : 84.21052631578947\n",
      "[[ 85  10]\n",
      " [ 26 107]]\n",
      "Best Accuracy of Gradient Boost is : 85.507246 using {'max_depth': 2, 'min_samples_split': 290}\n"
     ]
    },
    {
     "data": {
      "image/png": "[encoded data removed]",
      "text/plain": [
       "<Figure size 432x288 with 1 Axes>"
      ]
     },
     "metadata": {
      "needs_background": "light"
     },
     "output_type": "display_data"
    },
    {
     "name": "stdout",
     "output_type": "stream",
     "text": [
      "94.43940758705139\n"
     ]
    }
   ],
   "source": [
    "def GradientBoost():\n",
    "    start=time.time()\n",
    "    from sklearn.ensemble import GradientBoostingClassifier\n",
    "    classifier = GradientBoostingClassifier(random_state=24)\n",
    "    classifier = classifier.fit(rX_train,y_train)\n",
    "#prediction\n",
    "    y_pred = classifier.predict(rX_test)\n",
    "#Accuracy\n",
    "    from sklearn.metrics import accuracy_score\n",
    "    print('Accuracy Score of Gradient Boost is :', accuracy_score(y_test,y_pred)*100)\n",
    "    from sklearn.metrics import confusion_matrix\n",
    "    print(confusion_matrix(y_test,y_pred))\n",
    "    # Import GridSearchCV\n",
    "    from sklearn.model_selection import GridSearchCV\n",
    "\n",
    "# Create a dictionary where tol and max_iter are keys and the lists of their values are corresponding values\n",
    "    param_grid ={'min_samples_split' : range(10,500,20),'max_depth': [1,2,3,4]}\n",
    "    # Instantiate GridSearchCV with the required parameters\n",
    "    grid_model = GridSearchCV(estimator=classifier, param_grid=param_grid, cv=5)\n",
    "\n",
    "# Use scaler to rescale X and assign it to rescaledX\n",
    "    rescaledX = scaler.fit_transform(X)\n",
    "\n",
    "\n",
    "# Fit data to grid_model\n",
    "    grid_model_result = grid_model.fit(rescaledX,y)\n",
    "\n",
    "# Summarize results\n",
    "    best_score, best_params = grid_model_result.best_score_,grid_model_result.best_params_\n",
    "    print(\"Best Accuracy of Gradient Boost is : %f using %s\" % ((best_score*100),best_params))\n",
    "    import matplotlib.pyplot as plt\n",
    "    from sklearn.metrics import roc_auc_score\n",
    "    from sklearn.metrics import roc_curve\n",
    "    logit_roc_auc = roc_auc_score(y_test, classifier.predict(rX_test))\n",
    "    fpr, tpr, thresholds = roc_curve(y_test, classifier.predict_proba(rX_test)[:,1])\n",
    "    plt.figure()\n",
    "    plt.plot(fpr, tpr, label='Gradient Boosting (area = %0.2f)' % logit_roc_auc)\n",
    "    plt.plot([0, 1], [0, 1],'r--')\n",
    "    plt.xlim([0.0, 1.0])\n",
    "    plt.ylim([0.0, 1.05])\n",
    "    plt.xlabel('False Positive Rate')\n",
    "    plt.ylabel('True Positive Rate')\n",
    "    plt.title('Receiver operating characteristic')\n",
    "    plt.legend(loc=\"lower right\")\n",
    "    plt.savefig('Log_ROC')\n",
    "    plt.show()\n",
    "    end=time.time()\n",
    "    return end-start\n",
    "G=GradientBoost()\n",
    "print(G)"
   ]
  },
  {
   "cell_type": "code",
   "execution_count": 16,
   "metadata": {},
   "outputs": [
    {
     "name": "stdout",
     "output_type": "stream",
     "text": [
      "Accuracy Score of XGBoost is : 82.45614035087719\n",
      "[[ 80  15]\n",
      " [ 25 108]]\n",
      "Fitting 5 folds for each of 96 candidates, totalling 480 fits\n"
     ]
    },
    {
     "name": "stderr",
     "output_type": "stream",
     "text": [
      "[Parallel(n_jobs=10)]: Using backend LokyBackend with 10 concurrent workers.\n",
      "[Parallel(n_jobs=10)]: Done  30 tasks      | elapsed:    7.2s\n",
      "[Parallel(n_jobs=10)]: Done 180 tasks      | elapsed:   16.6s\n",
      "[Parallel(n_jobs=10)]: Done 430 tasks      | elapsed:   32.7s\n",
      "[Parallel(n_jobs=10)]: Done 480 out of 480 | elapsed:   37.4s finished\n"
     ]
    },
    {
     "name": "stdout",
     "output_type": "stream",
     "text": [
      "Best Accuracy of XGBoost is : 92.753893 using {'learning_rate': 0.05, 'max_depth': 2, 'n_estimators': 100}\n"
     ]
    },
    {
     "data": {
      "image/png": "[encoded data removed]",
      "text/plain": [
       "<Figure size 432x288 with 1 Axes>"
      ]
     },
     "metadata": {
      "needs_background": "light"
     },
     "output_type": "display_data"
    },
    {
     "name": "stdout",
     "output_type": "stream",
     "text": [
      "40.421014070510864\n"
     ]
    }
   ],
   "source": [
    "def XGBoost():\n",
    "    start=time.time()\n",
    "    from xgboost import XGBClassifier\n",
    "# fit model no training data\n",
    "    model = XGBClassifier(random_state=24)\n",
    "    model.fit(rX_train, y_train)\n",
    "    y_pred = model.predict(rX_test)\n",
    "    from sklearn.metrics import accuracy_score\n",
    "    print('Accuracy Score of XGBoost is :', accuracy_score(y_test,y_pred)*100)\n",
    "    from sklearn.metrics import confusion_matrix\n",
    "    print(confusion_matrix(y_test,y_pred))\n",
    "    # Import GridSearchCV\n",
    "    from sklearn.model_selection import GridSearchCV\n",
    "    estimator = XGBClassifier(objective= 'binary:logistic',nthread=4,seed=42)\n",
    "    param_grid = {'max_depth': range (2, 10, 1),'n_estimators': range(60, 220, 40),'learning_rate': [0.1, 0.01, 0.05]}\n",
    "\n",
    "    grid_model = GridSearchCV(estimator=estimator,param_grid=param_grid,scoring = 'roc_auc',n_jobs = 10,cv = 5,verbose=True)\n",
    "# Use scaler to rescale X and assign it to rescaledX\n",
    "    rescaledX = scaler.fit_transform(X)\n",
    "\n",
    "\n",
    "# Fit data to grid_model\n",
    "    grid_model_result = grid_model.fit(rescaledX,y)\n",
    "\n",
    "# Summarize results\n",
    "    best_score, best_params = grid_model_result.best_score_,grid_model_result.best_params_\n",
    "    print(\"Best Accuracy of XGBoost is : %f using %s\" % ((best_score*100),best_params))\n",
    "    import matplotlib.pyplot as plt\n",
    "    from sklearn.metrics import roc_auc_score\n",
    "    from sklearn.metrics import roc_curve\n",
    "    logit_roc_auc = roc_auc_score(y_test, model.predict(rX_test))\n",
    "    fpr, tpr, thresholds = roc_curve(y_test, model.predict_proba(rX_test)[:,1])\n",
    "    plt.figure()\n",
    "    plt.plot(fpr, tpr, label='Decision Tree (area = %0.2f)' % logit_roc_auc)\n",
    "    plt.plot([0, 1], [0, 1],'r--')\n",
    "    plt.xlim([0.0, 1.0])\n",
    "    plt.ylim([0.0, 1.05])\n",
    "    plt.xlabel('False Positive Rate')\n",
    "    plt.ylabel('True Positive Rate')\n",
    "    plt.title('Receiver operating characteristic')\n",
    "    plt.legend(loc=\"lower right\")\n",
    "    plt.savefig('Log_ROC')\n",
    "    plt.show()\n",
    "    end=time.time()\n",
    "    return end-start\n",
    "X=XGBoost()\n",
    "print(X)"
   ]
  },
  {
   "cell_type": "code",
   "execution_count": null,
   "metadata": {},
   "outputs": [],
   "source": []
  }
 ],
 "metadata": {
  "kernelspec": {
   "display_name": "Python 3",
   "language": "python",
   "name": "python3"
  },
  "language_info": {
   "codemirror_mode": {
    "name": "ipython",
    "version": 3
   },
   "file_extension": ".py",
   "mimetype": "text/x-python",
   "name": "python",
   "nbconvert_exporter": "python",
   "pygments_lexer": "ipython3",
   "version": "3.7.6"
  }
 },
 "nbformat": 4,
 "nbformat_minor": 4
}
